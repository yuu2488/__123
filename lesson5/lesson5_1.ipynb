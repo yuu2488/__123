{
 "cells": [
  {
   "cell_type": "code",
   "execution_count": null,
   "id": "0f463bc4",
   "metadata": {},
   "outputs": [],
   "source": [
    "import requests\n",
    "\n",
    "def chat_with_ollama(prompt: str):\n",
    "    url = \"http://localhost:11434/api/generate\"\n",
    "    payload = {\n",
    "        \"model\": \"gemma3:1b\",\n",
    "        \"prompt\": prompt,\n",
    "        \"stream\": False,\n",
    "        \"options\": { #參考說明1\n",
    "            \"temperature\": 0.7,\n",
    "            \"top_p\": 0.9,\n",
    "            \"top_k\": 50,\n",
    "        },\n",
    "        \"max_tokens\": 100,\n",
    "        \"format\": \"json\",\n",
    "    }\n",
    "\n",
    "    response = requests.post(url, json=payload)\n",
    "    result = response.json()\n",
    "    print(\"💬 AI 回應：\")\n",
    "    # Print the whole result for debugging\n",
    "    print(result)\n",
    "    # Try to print the 'response' key if it exists, otherwise print possible keys\n",
    "    if \"response\" in result:\n",
    "        print(result[\"response\"])\n",
    "    elif \"message\" in result:\n",
    "        print(result[\"message\"])\n",
    "    elif \"content\" in result:\n",
    "        print(result[\"content\"])\n",
    "    else:\n",
    "        print(\"No expected key found in response. Available keys:\", result.keys())\n",
    "\n",
    "#範例輸入\n",
    "chat_with_ollama(\"請用簡單的方式解釋什麼是Python的函式？\")"
   ]
  },
  {
   "cell_type": "code",
   "execution_count": 8,
   "id": "2b83cc70",
   "metadata": {},
   "outputs": [
    {
     "name": "stdout",
     "output_type": "stream",
     "text": [
      "成功連接到 Open WebUI 的 GitHub 頁面！\n"
     ]
    }
   ],
   "source": [
    "import requests \n",
    "\n",
    "url = 'https://github.com/open-webui/open-webui'\n",
    "response = requests.get(url)\n",
    "response.status_code\n",
    "if response.status_code == 200:\n",
    "    print(\"成功連接到 Open WebUI 的 GitHub 頁面！\")\n",
    "else:\n",
    "    print(\"無法連接到 Open WebUI 的 GitHub 頁面，狀態碼：\", response.status_code)   "
   ]
  },
  {
   "cell_type": "code",
   "execution_count": 2,
   "id": "b6f1ead7",
   "metadata": {},
   "outputs": [
    {
     "name": "stdout",
     "output_type": "stream",
     "text": [
      "無法連接到 Ollama API，狀態碼： 500\n"
     ]
    }
   ],
   "source": [
    "import requests \n",
    "\n",
    "url = \"http://localhost:11434/api/generate\"\n",
    "response = requests.post(url,json={\n",
    "  \"model\": \"gemma3:1b\",\n",
    "  \"prompt\":\"Why is the sky blue?\",\n",
    "  \"stream\": False,\n",
    "})\n",
    "if response.status_code == 200:\n",
    "    print(\"成功連接到 Ollama API！\")\n",
    "else:\n",
    "    print(\"無法連接到 Ollama API，狀態碼：\", response.status_code)  \n",
    "    "
   ]
  },
  {
   "cell_type": "code",
   "execution_count": null,
   "id": "b5c64257",
   "metadata": {},
   "outputs": [],
   "source": [
    "code = {\n",
    "    \"tw\": \"Taiwan\",\n",
    "    \"jp\": \"Japan\",\n",
    "    \"us\": \"United States\",\n",
    "    \"cn\": \"China\",\n",
    "    \"kr\": \"South Korea\",\n",
    "}"
   ]
  }
 ],
 "metadata": {
  "kernelspec": {
   "display_name": "line_bot",
   "language": "python",
   "name": "python3"
  },
  "language_info": {
   "codemirror_mode": {
    "name": "ipython",
    "version": 3
   },
   "file_extension": ".py",
   "mimetype": "text/x-python",
   "name": "python",
   "nbconvert_exporter": "python",
   "pygments_lexer": "ipython3",
   "version": "3.11.13"
  }
 },
 "nbformat": 4,
 "nbformat_minor": 5
}
